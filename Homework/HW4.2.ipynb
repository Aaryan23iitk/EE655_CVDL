{
 "cells": [
  {
   "cell_type": "code",
   "execution_count": 1,
   "metadata": {},
   "outputs": [],
   "source": [
    "import numpy as np"
   ]
  },
  {
   "cell_type": "code",
   "execution_count": 2,
   "metadata": {},
   "outputs": [],
   "source": [
    "def jaccard_similarity(matrix_A, matrix_B):\n",
    "\n",
    "    if matrix_A.shape != matrix_B.shape:\n",
    "        raise ValueError(\"Matrices must have the same shape\") \n",
    "       \n",
    "    intersection = np.logical_and(matrix_A, matrix_B).sum()\n",
    "    union = np.logical_or(matrix_A, matrix_B).sum()\n",
    "\n",
    "    if union == 0:\n",
    "        return 1.0\n",
    "    \n",
    "    iou = intersection / union\n",
    "    return iou"
   ]
  },
  {
   "cell_type": "code",
   "execution_count": 3,
   "metadata": {},
   "outputs": [],
   "source": [
    "A = np.array([[1, 1, 0, 1],\n",
    "              [1, 1, 1, 1],\n",
    "              [0, 1, 1, 1],\n",
    "              [0, 0, 0, 0]])\n",
    "\n",
    "B = np.array([[0, 0, 0, 0],\n",
    "              [0, 1, 1, 0],\n",
    "              [0, 1, 0, 0],\n",
    "              [0, 0, 1, 0]])"
   ]
  },
  {
   "cell_type": "code",
   "execution_count": 4,
   "metadata": {},
   "outputs": [
    {
     "name": "stdout",
     "output_type": "stream",
     "text": [
      "Jaccard Similarity (IoU) Score: 0.27\n"
     ]
    }
   ],
   "source": [
    "iou_score = jaccard_similarity(A, B)\n",
    "print(f\"Jaccard Similarity (IoU) Score: {iou_score:.2f}\")"
   ]
  }
 ],
 "metadata": {
  "kernelspec": {
   "display_name": "Python 3",
   "language": "python",
   "name": "python3"
  },
  "language_info": {
   "codemirror_mode": {
    "name": "ipython",
    "version": 3
   },
   "file_extension": ".py",
   "mimetype": "text/x-python",
   "name": "python",
   "nbconvert_exporter": "python",
   "pygments_lexer": "ipython3",
   "version": "3.12.3"
  }
 },
 "nbformat": 4,
 "nbformat_minor": 2
}
