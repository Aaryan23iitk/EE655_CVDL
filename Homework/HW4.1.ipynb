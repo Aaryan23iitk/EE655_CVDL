{
 "cells": [
  {
   "cell_type": "code",
   "execution_count": 1,
   "metadata": {},
   "outputs": [],
   "source": [
    "import numpy as np"
   ]
  },
  {
   "cell_type": "code",
   "execution_count": 2,
   "metadata": {},
   "outputs": [],
   "source": [
    "def transposed_convolution(input_matrix, kernel, stride=1, crop=0):\n",
    "    \n",
    "    H, W = input_matrix.shape\n",
    "    kH, kW = kernel.shape\n",
    "    sH, sW = stride, stride  \n",
    "\n",
    "    H_out = sH * (H - 1) + kH\n",
    "    W_out = sW * (W - 1) + kW\n",
    "\n",
    "    output_matrix = np.zeros((H_out, W_out))\n",
    "\n",
    "    for i in range(H):\n",
    "        for j in range(W):\n",
    "            output_matrix[i * sH : i * sH + kH, j * sW : j * sW + kW] += (\n",
    "                input_matrix[i, j] * kernel\n",
    "            )\n",
    "\n",
    "    if crop > 0:\n",
    "        output_matrix = output_matrix[crop:-crop, crop:-crop]\n",
    "\n",
    "    return output_matrix"
   ]
  },
  {
   "cell_type": "code",
   "execution_count": 3,
   "metadata": {},
   "outputs": [],
   "source": [
    "input_matrix = np.array([[2, 3], [-2, 1]])  \n",
    "kernel = np.array([[2, 1, 4], [-1, -2, -3], [-2, 1, 4]]) \n",
    "stride = 3\n",
    "crop = 1"
   ]
  },
  {
   "cell_type": "code",
   "execution_count": 4,
   "metadata": {},
   "outputs": [
    {
     "name": "stdout",
     "output_type": "stream",
     "text": [
      "Output Matrix:\n",
      "[[-4. -6. -3. -6.]\n",
      " [ 2.  8. -6.  3.]\n",
      " [-2. -8.  2.  1.]\n",
      " [ 4.  6. -1. -2.]]\n"
     ]
    }
   ],
   "source": [
    "output = transposed_convolution(input_matrix, kernel, stride, crop)\n",
    "print(\"Output Matrix:\")\n",
    "print(output)"
   ]
  }
 ],
 "metadata": {
  "kernelspec": {
   "display_name": "Python 3",
   "language": "python",
   "name": "python3"
  },
  "language_info": {
   "codemirror_mode": {
    "name": "ipython",
    "version": 3
   },
   "file_extension": ".py",
   "mimetype": "text/x-python",
   "name": "python",
   "nbconvert_exporter": "python",
   "pygments_lexer": "ipython3",
   "version": "3.12.3"
  }
 },
 "nbformat": 4,
 "nbformat_minor": 2
}
