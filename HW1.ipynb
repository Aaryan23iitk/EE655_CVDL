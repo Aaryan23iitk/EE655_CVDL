{
 "cells": [
  {
   "cell_type": "code",
   "execution_count": 1,
   "metadata": {},
   "outputs": [],
   "source": [
    "import os\n",
    "import cv2\n",
    "import numpy as np\n",
    "from skimage.feature import hog\n",
    "from sklearn.svm import SVC\n",
    "from sklearn.metrics import accuracy_score, classification_report\n",
    "from sklearn.preprocessing import StandardScaler"
   ]
  },
  {
   "cell_type": "code",
   "execution_count": 5,
   "metadata": {},
   "outputs": [],
   "source": [
    "def load_data(folder):\n",
    "    images = []\n",
    "    labels = []\n",
    "    for label in range(10):  # Digits 0-9\n",
    "        label_folder = os.path.join(folder, str(label))\n",
    "        for filename in os.listdir(label_folder):\n",
    "            filepath = os.path.join(label_folder, filename)\n",
    "            img = cv2.imread(filepath, cv2.IMREAD_GRAYSCALE)  # Load as grayscale\n",
    "            if img is not None:\n",
    "                images.append(img)\n",
    "                labels.append(label)\n",
    "            else:\n",
    "                print(f\"Error loading image: {filepath}\")\n",
    "    return np.array(images), np.array(labels)"
   ]
  },
  {
   "cell_type": "code",
   "execution_count": 6,
   "metadata": {},
   "outputs": [],
   "source": [
    "def preprocess_images(images, size=(28, 28)):\n",
    "    processed = [cv2.resize(img, size) / 255.0 for img in images]  \n",
    "    return np.array(processed)"
   ]
  },
  {
   "cell_type": "code",
   "execution_count": 7,
   "metadata": {},
   "outputs": [],
   "source": [
    "def extract_hog_features(images):\n",
    "    features = [hog(img, \n",
    "                    orientations=9, \n",
    "                    pixels_per_cell=(8, 8), \n",
    "                    cells_per_block=(2, 2), \n",
    "                    block_norm='L2-Hys', \n",
    "                    visualize=False) for img in images]\n",
    "    return np.array(features)"
   ]
  },
  {
   "cell_type": "code",
   "execution_count": 8,
   "metadata": {},
   "outputs": [],
   "source": [
    "train_folder = r'C:\\Users\\Aaryan\\Downloads\\MNIST Dataset JPG format\\MNIST Dataset JPG format\\MNIST - JPG - training'\n",
    "test_folder = r'C:\\Users\\Aaryan\\Downloads\\MNIST Dataset JPG format\\MNIST Dataset JPG format\\MNIST - JPG - testing'\n",
    "\n",
    "train_images, train_labels = load_data(train_folder)\n",
    "test_images, test_labels = load_data(test_folder)\n",
    "\n",
    "train_images = preprocess_images(train_images)\n",
    "test_images = preprocess_images(test_images)\n",
    "\n",
    "train_features = extract_hog_features(train_images)\n",
    "test_features = extract_hog_features(test_images)\n",
    "\n",
    "scaler = StandardScaler()\n",
    "train_features = scaler.fit_transform(train_features)\n",
    "test_features = scaler.transform(test_features)\n",
    "\n",
    "\n",
    "model = SVC(kernel='linear', C=1.0)  # Linear kernel SVM\n",
    "model.fit(train_features, train_labels)\n",
    "\n",
    "predictions = model.predict(test_features)\n",
    "accuracy = accuracy_score(test_labels, predictions)"
   ]
  },
  {
   "cell_type": "code",
   "execution_count": 9,
   "metadata": {},
   "outputs": [
    {
     "name": "stdout",
     "output_type": "stream",
     "text": [
      "Model Accuracy: 95.44%\n",
      "\n",
      "Classification Report:\n",
      "              precision    recall  f1-score   support\n",
      "\n",
      "           0       0.96      0.98      0.97       980\n",
      "           1       0.98      0.98      0.98      1135\n",
      "           2       0.94      0.96      0.95      1032\n",
      "           3       0.94      0.95      0.94      1010\n",
      "           4       0.95      0.95      0.95       982\n",
      "           5       0.96      0.95      0.95       892\n",
      "           6       0.97      0.96      0.96       958\n",
      "           7       0.95      0.93      0.94      1028\n",
      "           8       0.95      0.93      0.94       974\n",
      "           9       0.95      0.94      0.94      1009\n",
      "\n",
      "    accuracy                           0.95     10000\n",
      "   macro avg       0.95      0.95      0.95     10000\n",
      "weighted avg       0.95      0.95      0.95     10000\n",
      "\n"
     ]
    }
   ],
   "source": [
    "print(f\"Model Accuracy: {accuracy * 100:.2f}%\")\n",
    "print(\"\\nClassification Report:\")\n",
    "print(classification_report(test_labels, predictions))"
   ]
  }
 ],
 "metadata": {
  "kernelspec": {
   "display_name": "Python 3",
   "language": "python",
   "name": "python3"
  },
  "language_info": {
   "codemirror_mode": {
    "name": "ipython",
    "version": 3
   },
   "file_extension": ".py",
   "mimetype": "text/x-python",
   "name": "python",
   "nbconvert_exporter": "python",
   "pygments_lexer": "ipython3",
   "version": "3.12.3"
  }
 },
 "nbformat": 4,
 "nbformat_minor": 2
}
