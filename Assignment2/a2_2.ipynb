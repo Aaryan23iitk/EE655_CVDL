{
 "cells": [
  {
   "cell_type": "code",
   "execution_count": 1,
   "id": "426dcdd8",
   "metadata": {},
   "outputs": [],
   "source": [
    "import os\n",
    "import numpy as np\n",
    "from PIL import Image\n",
    "from torchvision.datasets import MNIST\n",
    "from torchvision import transforms\n",
    "from torch.utils.data import Dataset, DataLoader, random_split\n",
    "import torch\n",
    "import torch.nn as nn\n",
    "import torch.optim as optim\n",
    "import torchvision.transforms.functional as TF\n"
   ]
  },
  {
   "cell_type": "code",
   "execution_count": null,
   "id": "a69b944a",
   "metadata": {},
   "outputs": [],
   "source": [
    "\n",
    "class ForegroundMaskDataset(Dataset):\n",
    "    def __init__(self, mnist_data, mask_dir, transform=None):\n",
    "        self.mnist_data = mnist_data\n",
    "        self.mask_dir = mask_dir\n",
    "        self.transform = transform\n",
    "\n",
    "    def __len__(self):\n",
    "        return len(self.mnist_data)\n",
    "\n",
    "    def __getitem__(self, idx):\n",
    "        img, _ = self.mnist_data[idx]\n",
    "        mask_path = os.path.join(self.mask_dir, f\"{idx:05d}_fgmask.png\")\n",
    "        mask = Image.open(mask_path).convert(\"L\")\n",
    "\n",
    "        if self.transform:\n",
    "            img = self.transform(img)\n",
    "            mask = self.transform(mask)\n",
    "\n",
    "        mask = (mask > 0).float()\n",
    "        return img, mask"
   ]
  },
  {
   "cell_type": "code",
   "execution_count": 3,
   "id": "614c0992",
   "metadata": {},
   "outputs": [],
   "source": [
    "transform = transforms.Compose([\n",
    "    transforms.Resize((28, 28)),\n",
    "    transforms.ToTensor(),\n",
    "])"
   ]
  },
  {
   "cell_type": "code",
   "execution_count": null,
   "id": "8f407522",
   "metadata": {},
   "outputs": [],
   "source": [
    "\n",
    "mnist_dataset = MNIST(root=\"./data\", train=True, download=False)\n",
    "dataset = ForegroundMaskDataset(mnist_dataset, \"output/foreground_masks\", transform=transform)\n",
    "\n",
    "train_size = int(0.8 * len(dataset))\n",
    "test_size = len(dataset) - train_size\n",
    "train_ds, test_ds = random_split(dataset, [train_size, test_size])\n",
    "train_loader = DataLoader(train_ds, batch_size=64, shuffle=True)\n",
    "test_loader = DataLoader(test_ds, batch_size=64, shuffle=False)"
   ]
  },
  {
   "cell_type": "code",
   "execution_count": null,
   "id": "02bad44d",
   "metadata": {},
   "outputs": [],
   "source": [
    "class SimpleSegNet(nn.Module):\n",
    "    def __init__(self):\n",
    "        super().__init__()\n",
    "        self.encoder = nn.Sequential(\n",
    "            nn.Conv2d(1, 16, 3, padding=1), \n",
    "            nn.ReLU(),\n",
    "            nn.MaxPool2d(2),                # (B,16,14,14)\n",
    "            nn.Conv2d(16, 32, 3, padding=1),# (B,32,14,14)\n",
    "            nn.ReLU(),\n",
    "            nn.MaxPool2d(2),                # (B,32,7,7)\n",
    "        )\n",
    "        self.decoder = nn.Sequential(\n",
    "            nn.ConvTranspose2d(32, 16, 2, stride=2), # (B,16,14,14)\n",
    "            nn.ReLU(),\n",
    "            nn.ConvTranspose2d(16, 1, 2, stride=2),  # (B,1,28,28)\n",
    "            nn.Sigmoid()\n",
    "        )\n",
    "\n",
    "    def forward(self, x):\n",
    "        x = self.encoder(x)\n",
    "        x = self.decoder(x)\n",
    "        return x"
   ]
  },
  {
   "cell_type": "code",
   "execution_count": 6,
   "id": "39a67e43",
   "metadata": {},
   "outputs": [],
   "source": [
    "def compute_iou(preds, targets, threshold=0.5):\n",
    "    preds = (preds > threshold).float()\n",
    "    intersection = (preds * targets).sum(dim=(1, 2, 3))\n",
    "    union = ((preds + targets) > 0).float().sum(dim=(1, 2, 3))\n",
    "    iou = (intersection / union).mean()\n",
    "    return iou.item()"
   ]
  },
  {
   "cell_type": "code",
   "execution_count": null,
   "id": "e164536b",
   "metadata": {},
   "outputs": [],
   "source": [
    "device = torch.device(\"cuda\" if torch.cuda.is_available() else \"cpu\")\n",
    "model = SimpleSegNet().to(device)\n",
    "criterion = nn.BCELoss()\n",
    "optimizer = optim.Adam(model.parameters(), lr=0.001)\n",
    "epochs = 5\n"
   ]
  },
  {
   "cell_type": "code",
   "execution_count": 8,
   "id": "7a585230",
   "metadata": {},
   "outputs": [
    {
     "name": "stdout",
     "output_type": "stream",
     "text": [
      "[Epoch 1] Loss: 0.1093\n",
      "[Epoch 2] Loss: 0.0398\n",
      "[Epoch 3] Loss: 0.0351\n",
      "[Epoch 4] Loss: 0.0328\n",
      "[Epoch 5] Loss: 0.0312\n"
     ]
    }
   ],
   "source": [
    "for epoch in range(epochs):\n",
    "    model.train()\n",
    "    running_loss = 0.0\n",
    "    for imgs, masks in train_loader:\n",
    "        imgs, masks = imgs.to(device), masks.to(device)\n",
    "\n",
    "        optimizer.zero_grad()\n",
    "        outputs = model(imgs)\n",
    "        loss = criterion(outputs, masks)\n",
    "        loss.backward()\n",
    "        optimizer.step()\n",
    "        running_loss += loss.item()\n",
    "\n",
    "    print(f\"[Epoch {epoch+1}] Loss: {running_loss / len(train_loader):.4f}\")\n"
   ]
  },
  {
   "cell_type": "code",
   "execution_count": null,
   "id": "7c13ba0a",
   "metadata": {},
   "outputs": [
    {
     "name": "stdout",
     "output_type": "stream",
     "text": [
      "[✓] Mean IoU on test set: 0.9124\n"
     ]
    }
   ],
   "source": [
    "\n",
    "model.eval()\n",
    "ious = []\n",
    "with torch.no_grad():\n",
    "    for imgs, masks in test_loader:\n",
    "        imgs, masks = imgs.to(device), masks.to(device)\n",
    "        outputs = model(imgs)\n",
    "        iou = compute_iou(outputs, masks)\n",
    "        ious.append(iou)\n",
    "\n",
    "mean_iou = np.mean(ious)\n",
    "print(f\"[✓] Mean IoU on test set: {mean_iou:.4f}\")\n"
   ]
  }
 ],
 "metadata": {
  "kernelspec": {
   "display_name": "Python 3",
   "language": "python",
   "name": "python3"
  },
  "language_info": {
   "codemirror_mode": {
    "name": "ipython",
    "version": 3
   },
   "file_extension": ".py",
   "mimetype": "text/x-python",
   "name": "python",
   "nbconvert_exporter": "python",
   "pygments_lexer": "ipython3",
   "version": "3.12.3"
  }
 },
 "nbformat": 4,
 "nbformat_minor": 5
}
