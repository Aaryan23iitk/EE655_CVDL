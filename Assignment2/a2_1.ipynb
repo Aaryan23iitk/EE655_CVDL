{
 "cells": [
  {
   "cell_type": "code",
   "execution_count": 1,
   "id": "474078ac",
   "metadata": {},
   "outputs": [],
   "source": [
    "import numpy as np\n",
    "import cv2\n",
    "import os\n",
    "from torchvision.datasets import MNIST\n",
    "from PIL import Image"
   ]
  },
  {
   "cell_type": "code",
   "execution_count": 2,
   "id": "58e64f73",
   "metadata": {},
   "outputs": [],
   "source": [
    "os.makedirs(\"output/foreground_masks\", exist_ok=True)\n",
    "os.makedirs(\"output/circular_localization\", exist_ok=True)\n",
    "os.makedirs(\"output/pairwise_2x2/images\", exist_ok=True)\n",
    "os.makedirs(\"output/pairwise_2x2/masks\", exist_ok=True)"
   ]
  },
  {
   "cell_type": "code",
   "execution_count": 3,
   "id": "aa384572",
   "metadata": {},
   "outputs": [],
   "source": [
    "try:\n",
    "    mnist = MNIST(root=\"./data\", train=True, download=True)\n",
    "except Exception as e:\n",
    "    print(\"MNIST download error suppressed. Proceeding if already downloaded.\")"
   ]
  },
  {
   "cell_type": "code",
   "execution_count": 4,
   "id": "75655cf0",
   "metadata": {},
   "outputs": [
    {
     "name": "stdout",
     "output_type": "stream",
     "text": [
      "Saved 60000 foreground (Otsu) masks in 'output/foreground_masks/'\n"
     ]
    }
   ],
   "source": [
    "def get_otsu_mask(image):\n",
    "    gray = np.array(image)\n",
    "    _, mask = cv2.threshold(gray, 0, 255, cv2.THRESH_BINARY + cv2.THRESH_OTSU)\n",
    "    return mask\n",
    "\n",
    "otsu_masks = []\n",
    "for idx, (img, _) in enumerate(mnist):\n",
    "    mask = get_otsu_mask(img)\n",
    "    otsu_masks.append(mask)\n",
    "    Image.fromarray(mask).save(f\"output/foreground_masks/{idx:05d}_fgmask.png\")\n",
    "\n",
    "print(f\"Saved {len(otsu_masks)} foreground (Otsu) masks in 'output/foreground_masks/'\")"
   ]
  },
  {
   "cell_type": "code",
   "execution_count": 5,
   "id": "d220dd9b",
   "metadata": {},
   "outputs": [
    {
     "name": "stdout",
     "output_type": "stream",
     "text": [
      "Saved 60000 circular localization masks in 'output/circular_localization/'\n"
     ]
    }
   ],
   "source": [
    "def get_tight_circle(mask):\n",
    "    contours, _ = cv2.findContours(mask, cv2.RETR_EXTERNAL, cv2.CHAIN_APPROX_SIMPLE)\n",
    "    circle_mask = np.zeros_like(mask)\n",
    "    if contours:\n",
    "        cnt = max(contours, key=cv2.contourArea)\n",
    "        (x, y), radius = cv2.minEnclosingCircle(cnt)\n",
    "        cv2.circle(circle_mask, (int(x), int(y)), int(radius), 255, -1)\n",
    "    return circle_mask\n",
    "\n",
    "circle_masks = []\n",
    "for idx, mask in enumerate(otsu_masks):\n",
    "    circ_mask = get_tight_circle(mask)\n",
    "    circle_masks.append(circ_mask)\n",
    "    Image.fromarray(circ_mask).save(f\"output/circular_localization/{idx:05d}_circle.png\")\n",
    "\n",
    "print(f\"Saved {len(circle_masks)} circular localization masks in 'output/circular_localization/'\")"
   ]
  },
  {
   "cell_type": "code",
   "execution_count": 6,
   "id": "2cd94419",
   "metadata": {},
   "outputs": [
    {
     "name": "stdout",
     "output_type": "stream",
     "text": [
      "Saved 15000 2x2 spatially concatenated image-mask pairs in 'output/pairwise_2x2/'\n"
     ]
    }
   ],
   "source": [
    "def create_spatial_concat_dataset(images, masks):\n",
    "    composite_images = []\n",
    "    composite_masks = []\n",
    "\n",
    "    for i in range(0, len(images) - 3, 4):\n",
    "        imgs = [np.array(images[j]) for j in range(i, i + 4)]\n",
    "        msks = [np.array(masks[j]) for j in range(i, i + 4)]\n",
    "\n",
    "        top = np.hstack((imgs[0], imgs[1]))\n",
    "        bottom = np.hstack((imgs[2], imgs[3]))\n",
    "        new_img = np.vstack((top, bottom))\n",
    "\n",
    "        top_mask = np.hstack((msks[0], msks[1]))\n",
    "        bottom_mask = np.hstack((msks[2], msks[3]))\n",
    "        new_mask = np.vstack((top_mask, bottom_mask))\n",
    "\n",
    "        composite_images.append(new_img)\n",
    "        composite_masks.append(new_mask)\n",
    "\n",
    "        idx = i // 4\n",
    "        Image.fromarray(new_img).save(f\"output/pairwise_2x2/images/{idx:05d}_2x2.png\")\n",
    "        Image.fromarray(new_mask).save(f\"output/pairwise_2x2/masks/{idx:05d}_mask.png\")\n",
    "\n",
    "    return composite_images, composite_masks\n",
    "\n",
    "images = [img for img, _ in mnist]\n",
    "composite_imgs, composite_msks = create_spatial_concat_dataset(images, otsu_masks)\n",
    "\n",
    "print(f\"Saved {len(composite_imgs)} 2x2 spatially concatenated image-mask pairs in 'output/pairwise_2x2/'\")"
   ]
  }
 ],
 "metadata": {
  "kernelspec": {
   "display_name": "Python 3",
   "language": "python",
   "name": "python3"
  },
  "language_info": {
   "codemirror_mode": {
    "name": "ipython",
    "version": 3
   },
   "file_extension": ".py",
   "mimetype": "text/x-python",
   "name": "python",
   "nbconvert_exporter": "python",
   "pygments_lexer": "ipython3",
   "version": "3.12.3"
  }
 },
 "nbformat": 4,
 "nbformat_minor": 5
}
