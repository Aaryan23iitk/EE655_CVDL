{
 "cells": [
  {
   "cell_type": "code",
   "execution_count": 1,
   "id": "52b599f7",
   "metadata": {},
   "outputs": [],
   "source": [
    "import torch\n",
    "import torch.nn as nn\n",
    "from torchvision import transforms\n",
    "from torch.utils.data import Dataset, DataLoader\n",
    "from torchvision.datasets import MNIST\n",
    "from PIL import Image\n",
    "import os\n",
    "import numpy as np\n",
    "from tqdm import tqdm"
   ]
  },
  {
   "cell_type": "code",
   "execution_count": null,
   "id": "f52d7708",
   "metadata": {},
   "outputs": [],
   "source": [
    "\n",
    "DEVICE = \"cuda\" if torch.cuda.is_available() else \"cpu\"\n",
    "BATCH_SIZE = 64\n",
    "EPOCHS = 5\n",
    "LR = 1e-3\n"
   ]
  },
  {
   "cell_type": "code",
   "execution_count": null,
   "id": "de6481eb",
   "metadata": {},
   "outputs": [],
   "source": [
    "\n",
    "class MNISTWithCircleMask(Dataset):\n",
    "    def __init__(self, mnist_dataset, mask_dir):\n",
    "        self.mnist = mnist_dataset\n",
    "        self.mask_dir = mask_dir\n",
    "        self.transform = transforms.ToTensor()\n",
    "\n",
    "    def __len__(self):\n",
    "        return len(self.mnist)\n",
    "\n",
    "    def __getitem__(self, idx):\n",
    "        img, label = self.mnist[idx]\n",
    "        img_tensor = self.transform(img)\n",
    "\n",
    "        mask_path = os.path.join(self.mask_dir, f\"{idx:05d}_circle.png\")\n",
    "        mask = Image.open(mask_path).convert(\"L\")\n",
    "        mask_tensor = self.transform(mask)\n",
    "\n",
    "        return img_tensor, label, mask_tensor"
   ]
  },
  {
   "cell_type": "code",
   "execution_count": null,
   "id": "5a42ef0c",
   "metadata": {},
   "outputs": [],
   "source": [
    "\n",
    "class SimpleCNN(nn.Module):\n",
    "    def __init__(self):\n",
    "        super().__init__()\n",
    "        self.conv = nn.Sequential(\n",
    "            nn.Conv2d(1, 16, 3, padding=1), nn.ReLU(), nn.MaxPool2d(2),\n",
    "            nn.Conv2d(16, 32, 3, padding=1), nn.ReLU(), nn.MaxPool2d(2),\n",
    "        )\n",
    "        self.fc = nn.Sequential(\n",
    "            nn.Flatten(),\n",
    "            nn.Linear(32 * 7 * 7, 128),\n",
    "            nn.ReLU(),\n",
    "            nn.Linear(128, 10),\n",
    "        )\n",
    "\n",
    "    def forward(self, x):\n",
    "        return self.fc(self.conv(x))"
   ]
  },
  {
   "cell_type": "code",
   "execution_count": null,
   "id": "9e534db4",
   "metadata": {},
   "outputs": [],
   "source": [
    "\n",
    "train_mnist = MNIST(root=\"./data\", train=True, download=False)\n",
    "test_mnist = MNIST(root=\"./data\", train=False, download=False)\n",
    "\n",
    "train_dataset = MNISTWithCircleMask(train_mnist, \"output/circular_localization\")\n",
    "test_dataset = MNISTWithCircleMask(test_mnist, \"output/circular_localization\")\n",
    "\n",
    "train_loader = DataLoader(train_dataset, batch_size=BATCH_SIZE, shuffle=True)\n",
    "test_loader = DataLoader(test_dataset, batch_size=1, shuffle=False)"
   ]
  },
  {
   "cell_type": "code",
   "execution_count": null,
   "id": "95f6ac67",
   "metadata": {},
   "outputs": [
    {
     "name": "stderr",
     "output_type": "stream",
     "text": [
      "Epoch 1/5: 100%|██████████| 938/938 [04:59<00:00,  3.13it/s]\n"
     ]
    },
    {
     "name": "stdout",
     "output_type": "stream",
     "text": [
      "Epoch 1 Loss: 0.2237\n"
     ]
    },
    {
     "name": "stderr",
     "output_type": "stream",
     "text": [
      "Epoch 2/5: 100%|██████████| 938/938 [02:48<00:00,  5.58it/s]\n"
     ]
    },
    {
     "name": "stdout",
     "output_type": "stream",
     "text": [
      "Epoch 2 Loss: 0.0611\n"
     ]
    },
    {
     "name": "stderr",
     "output_type": "stream",
     "text": [
      "Epoch 3/5: 100%|██████████| 938/938 [01:21<00:00, 11.49it/s]\n"
     ]
    },
    {
     "name": "stdout",
     "output_type": "stream",
     "text": [
      "Epoch 3 Loss: 0.0413\n"
     ]
    },
    {
     "name": "stderr",
     "output_type": "stream",
     "text": [
      "Epoch 4/5: 100%|██████████| 938/938 [01:23<00:00, 11.20it/s]\n"
     ]
    },
    {
     "name": "stdout",
     "output_type": "stream",
     "text": [
      "Epoch 4 Loss: 0.0321\n"
     ]
    },
    {
     "name": "stderr",
     "output_type": "stream",
     "text": [
      "Epoch 5/5: 100%|██████████| 938/938 [01:21<00:00, 11.58it/s]"
     ]
    },
    {
     "name": "stdout",
     "output_type": "stream",
     "text": [
      "Epoch 5 Loss: 0.0263\n"
     ]
    },
    {
     "name": "stderr",
     "output_type": "stream",
     "text": [
      "\n"
     ]
    }
   ],
   "source": [
    "model = SimpleCNN().to(DEVICE)\n",
    "optimizer = torch.optim.Adam(model.parameters(), lr=LR)\n",
    "loss_fn = nn.CrossEntropyLoss()\n",
    "\n",
    "for epoch in range(EPOCHS):\n",
    "    model.train()\n",
    "    total_loss = 0\n",
    "    for imgs, labels, _ in tqdm(train_loader, desc=f\"Epoch {epoch+1}/{EPOCHS}\"):\n",
    "        imgs, labels = imgs.to(DEVICE), labels.to(DEVICE)\n",
    "        preds = model(imgs)\n",
    "        loss = loss_fn(preds, labels)\n",
    "\n",
    "        optimizer.zero_grad()\n",
    "        loss.backward()\n",
    "        optimizer.step()\n",
    "        total_loss += loss.item()\n",
    "\n",
    "    print(f\"Epoch {epoch+1} Loss: {total_loss/len(train_loader):.4f}\")"
   ]
  },
  {
   "cell_type": "code",
   "execution_count": null,
   "id": "0bfa17e3",
   "metadata": {},
   "outputs": [],
   "source": [
    "\n",
    "def estimate_center_radius(img_tensor):\n",
    "    img_np = img_tensor.squeeze().cpu().numpy()\n",
    "    coords = np.argwhere(img_np > 0.1)\n",
    "    if coords.size == 0:\n",
    "        return (14, 14), 10\n",
    "    y_center, x_center = coords.mean(axis=0)\n",
    "    y_center, x_center = int(y_center), int(x_center)\n",
    "    distances = np.sqrt(((coords - [y_center, x_center])**2).sum(axis=1))\n",
    "    radius = int(np.percentile(distances, 90))\n",
    "    return (x_center, y_center), radius\n",
    "\n",
    "def generate_circular_mask(shape, center, radius):\n",
    "    H, W = shape\n",
    "    Y, X = np.ogrid[:H, :W]\n",
    "    dist_from_center = np.sqrt((X - center[0])**2 + (Y - center[1])**2)\n",
    "    mask = (dist_from_center <= radius).astype(np.uint8)\n",
    "    return torch.tensor(mask, dtype=torch.float32).unsqueeze(0).to(DEVICE)"
   ]
  },
  {
   "cell_type": "code",
   "execution_count": null,
   "id": "987bcf06",
   "metadata": {},
   "outputs": [],
   "source": [
    "\n",
    "def compute_iou(pred_mask, gt_mask):\n",
    "    pred_bin = (pred_mask > 0.5).float()\n",
    "    gt_bin = (gt_mask > 0.5).float()\n",
    "    intersection = (pred_bin * gt_bin).sum()\n",
    "    union = ((pred_bin + gt_bin) > 0).float().sum()\n",
    "    return (intersection / union).item() if union != 0 else 0.0\n"
   ]
  },
  {
   "cell_type": "code",
   "execution_count": null,
   "id": "270d4079",
   "metadata": {},
   "outputs": [
    {
     "name": "stderr",
     "output_type": "stream",
     "text": [
      "Evaluating: 100%|██████████| 10000/10000 [00:47<00:00, 210.96it/s]"
     ]
    },
    {
     "name": "stdout",
     "output_type": "stream",
     "text": [
      "\n",
      "Classification Accuracy: 98.69%\n",
      "Average IoU (with 0 for misclassification): 0.7180\n"
     ]
    },
    {
     "name": "stderr",
     "output_type": "stream",
     "text": [
      "\n"
     ]
    }
   ],
   "source": [
    "model.eval()\n",
    "total_iou = 0.0\n",
    "correct_cls = 0\n",
    "\n",
    "with torch.no_grad():\n",
    "    for img, label, gt_mask in tqdm(test_loader, desc=\"Evaluating\"):\n",
    "        img, label = img.to(DEVICE), label.to(DEVICE)\n",
    "        gt_mask = gt_mask.to(DEVICE)\n",
    "\n",
    "        output = model(img)\n",
    "        pred_label = output.argmax(dim=1)\n",
    "\n",
    "        if pred_label.item() == label.item():\n",
    "            correct_cls += 1\n",
    "\n",
    "            center, radius = estimate_center_radius(img)\n",
    "            pred_mask = generate_circular_mask((28, 28), center, radius)\n",
    "            iou = compute_iou(pred_mask, gt_mask)\n",
    "        else:\n",
    "            iou = 0.0\n",
    "\n",
    "        total_iou += iou\n",
    "\n",
    "avg_iou = total_iou / len(test_loader)\n",
    "accuracy = correct_cls / len(test_loader)\n",
    "\n",
    "print(f\"\\nClassification Accuracy: {accuracy * 100:.2f}%\")\n",
    "print(f\"Average IoU (with 0 for misclassification): {avg_iou:.4f}\")"
   ]
  }
 ],
 "metadata": {
  "kernelspec": {
   "display_name": "Python 3",
   "language": "python",
   "name": "python3"
  },
  "language_info": {
   "codemirror_mode": {
    "name": "ipython",
    "version": 3
   },
   "file_extension": ".py",
   "mimetype": "text/x-python",
   "name": "python",
   "nbconvert_exporter": "python",
   "pygments_lexer": "ipython3",
   "version": "3.12.3"
  }
 },
 "nbformat": 4,
 "nbformat_minor": 5
}
