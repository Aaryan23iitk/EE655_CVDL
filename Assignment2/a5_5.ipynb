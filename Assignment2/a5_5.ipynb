{
 "cells": [
  {
   "cell_type": "code",
   "execution_count": 1,
   "id": "cca02b57",
   "metadata": {},
   "outputs": [],
   "source": [
    "import cv2\n",
    "import numpy as np"
   ]
  },
  {
   "cell_type": "code",
   "execution_count": 2,
   "id": "fcb90757",
   "metadata": {},
   "outputs": [],
   "source": [
    "video_path = \"denis_walk.avi\"\n",
    "bg_img_path = \"bg.png\"\n",
    "output_path = \"final_output.mp4\""
   ]
  },
  {
   "cell_type": "code",
   "execution_count": 3,
   "id": "164c8741",
   "metadata": {},
   "outputs": [],
   "source": [
    "bg_img = cv2.imread(bg_img_path)\n",
    "frame_size = (640, 360)\n",
    "bg_img = cv2.resize(bg_img, frame_size)"
   ]
  },
  {
   "cell_type": "code",
   "execution_count": 4,
   "id": "4f07a1fb",
   "metadata": {},
   "outputs": [],
   "source": [
    "cap = cv2.VideoCapture(video_path)\n",
    "fps = int(cap.get(cv2.CAP_PROP_FPS))\n",
    "fourcc = cv2.VideoWriter_fourcc(*'mp4v')\n",
    "out = cv2.VideoWriter(output_path, fourcc, fps, frame_size)"
   ]
  },
  {
   "cell_type": "code",
   "execution_count": 5,
   "id": "8b45c331",
   "metadata": {},
   "outputs": [],
   "source": [
    "fgbg = cv2.createBackgroundSubtractorMOG2(history=500, varThreshold=25, detectShadows=False)"
   ]
  },
  {
   "cell_type": "code",
   "execution_count": 6,
   "id": "7f6e1830",
   "metadata": {},
   "outputs": [
    {
     "data": {
      "text/plain": [
       "True"
      ]
     },
     "execution_count": 6,
     "metadata": {},
     "output_type": "execute_result"
    }
   ],
   "source": [
    "for _ in range(30):\n",
    "    ret, frame = cap.read()\n",
    "    if not ret:\n",
    "        break\n",
    "    frame = cv2.resize(frame, frame_size)\n",
    "    fgbg.apply(frame)\n",
    "\n",
    "\n",
    "cap.set(cv2.CAP_PROP_POS_FRAMES, 0)"
   ]
  },
  {
   "cell_type": "code",
   "execution_count": 7,
   "id": "9187e18c",
   "metadata": {},
   "outputs": [],
   "source": [
    "while True:\n",
    "    ret, frame = cap.read()\n",
    "    if not ret:\n",
    "        break\n",
    "\n",
    "    frame = cv2.resize(frame, frame_size)\n",
    "    fgmask = fgbg.apply(frame)\n",
    "\n",
    "    kernel = cv2.getStructuringElement(cv2.MORPH_ELLIPSE, (5, 5))\n",
    "    fgmask = cv2.morphologyEx(fgmask, cv2.MORPH_OPEN, kernel, iterations=2)\n",
    "    fgmask = cv2.dilate(fgmask, kernel, iterations=2)\n",
    "    fgmask = cv2.GaussianBlur(fgmask, (5, 5), 0)\n",
    "\n",
    "    _, binary_mask = cv2.threshold(fgmask, 180, 255, cv2.THRESH_BINARY)\n",
    "\n",
    "    contours, _ = cv2.findContours(binary_mask, cv2.RETR_EXTERNAL, cv2.CHAIN_APPROX_SIMPLE)\n",
    "    clean_mask = np.zeros_like(binary_mask)\n",
    "    for cnt in contours:\n",
    "        if cv2.contourArea(cnt) > 500:  \n",
    "            cv2.drawContours(clean_mask, [cnt], -1, 255, -1)\n",
    "\n",
    "    alpha = clean_mask.astype(float) / 255.0\n",
    "    alpha = cv2.GaussianBlur(alpha, (15, 15), 0)\n",
    "    alpha = np.expand_dims(alpha, axis=2)\n",
    "\n",
    "    foreground = frame.astype(float) * alpha\n",
    "    background = bg_img.astype(float) * (1 - alpha)\n",
    "    output_frame = cv2.add(foreground, background).astype(np.uint8)\n",
    "\n",
    "    out.write(output_frame)"
   ]
  },
  {
   "cell_type": "code",
   "execution_count": 8,
   "id": "c44e3d5c",
   "metadata": {},
   "outputs": [
    {
     "name": "stdout",
     "output_type": "stream",
     "text": [
      "Final video saved as: final_output.mp4\n"
     ]
    }
   ],
   "source": [
    "cap.release()\n",
    "out.release()\n",
    "\n",
    "print(\"Final video saved as:\", output_path)"
   ]
  }
 ],
 "metadata": {
  "kernelspec": {
   "display_name": "Python 3",
   "language": "python",
   "name": "python3"
  },
  "language_info": {
   "codemirror_mode": {
    "name": "ipython",
    "version": 3
   },
   "file_extension": ".py",
   "mimetype": "text/x-python",
   "name": "python",
   "nbconvert_exporter": "python",
   "pygments_lexer": "ipython3",
   "version": "3.12.3"
  }
 },
 "nbformat": 4,
 "nbformat_minor": 5
}
