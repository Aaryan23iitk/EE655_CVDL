{
 "cells": [
  {
   "cell_type": "code",
   "execution_count": 1,
   "metadata": {},
   "outputs": [],
   "source": [
    "import cv2\n",
    "import numpy as np"
   ]
  },
  {
   "cell_type": "code",
   "execution_count": 2,
   "metadata": {},
   "outputs": [],
   "source": [
    "def count_objects(binary_image):\n",
    "    rows, cols = binary_image.shape\n",
    "    visited = np.zeros((rows, cols), dtype=bool)\n",
    "    directions = [(-1, 0), (1, 0), (0, -1), (0, 1), (-1, -1), (-1, 1), (1, -1), (1, 1)]\n",
    "    object_count = 0\n",
    "\n",
    "    def flood_fill(x, y):\n",
    "        stack = [(x, y)]\n",
    "        while stack:\n",
    "            cx, cy = stack.pop()\n",
    "            for dx, dy in directions:\n",
    "                nx, ny = cx + dx, cy + dy\n",
    "                if 0 <= nx < rows and 0 <= ny < cols and not visited[nx, ny] and binary_image[nx, ny] == 1:\n",
    "                    visited[nx, ny] = True\n",
    "                    stack.append((nx, ny))\n",
    "\n",
    "    for i in range(rows):\n",
    "        for j in range(cols):\n",
    "            if binary_image[i, j] == 1 and not visited[i, j]:\n",
    "                visited[i, j] = True\n",
    "                flood_fill(i, j)\n",
    "                object_count += 1\n",
    "\n",
    "    return object_count"
   ]
  },
  {
   "cell_type": "code",
   "execution_count": 14,
   "metadata": {},
   "outputs": [],
   "source": [
    "image_path = r\"C:\\Users\\Aaryan\\Desktop\\HW_EE655\\objects_21a51fd2-5f6f-4e0a-b867-37e4ec6dca73.png\" \n",
    "grayscale_image = cv2.imread(image_path, cv2.IMREAD_GRAYSCALE)\n",
    "_, binary_image = cv2.threshold(grayscale_image, 127, 1, cv2.THRESH_BINARY)"
   ]
  },
  {
   "cell_type": "code",
   "execution_count": 20,
   "metadata": {},
   "outputs": [
    {
     "name": "stdout",
     "output_type": "stream",
     "text": [
      "Number of objects in the image: 9\n"
     ]
    }
   ],
   "source": [
    "object_count = count_objects(binary_image)\n",
    "print(f\"Number of objects in the image: {object_count}\")"
   ]
  }
 ],
 "metadata": {
  "kernelspec": {
   "display_name": "Python 3",
   "language": "python",
   "name": "python3"
  },
  "language_info": {
   "codemirror_mode": {
    "name": "ipython",
    "version": 3
   },
   "file_extension": ".py",
   "mimetype": "text/x-python",
   "name": "python",
   "nbconvert_exporter": "python",
   "pygments_lexer": "ipython3",
   "version": "3.12.3"
  }
 },
 "nbformat": 4,
 "nbformat_minor": 2
}
