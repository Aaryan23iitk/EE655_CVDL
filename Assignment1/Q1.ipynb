{
 "cells": [
  {
   "cell_type": "code",
   "execution_count": 1,
   "metadata": {},
   "outputs": [],
   "source": [
    "import numpy as np"
   ]
  },
  {
   "cell_type": "code",
   "execution_count": 2,
   "metadata": {},
   "outputs": [],
   "source": [
    "def euclidean_distance(point1, point2):\n",
    "    return np.sqrt((point1[0] - point2[0])**2 + (point1[1] - point2[1])**2)"
   ]
  },
  {
   "cell_type": "code",
   "execution_count": 3,
   "metadata": {},
   "outputs": [],
   "source": [
    "def calculate_smile_features(p1, p2, p3, p4):\n",
    "    # Feature 1: Mouth Width to Height Ratio\n",
    "    width = euclidean_distance(p1, p2)\n",
    "    height = euclidean_distance(p3, p4)\n",
    "    width_to_height_ratio = width / height\n",
    "\n",
    "    # Feature 2: Curvature of the Upper Lip\n",
    "    midpoint_x = (p1[0] + p2[0]) / 2\n",
    "    midpoint_y = (p1[1] + p2[1]) / 2\n",
    "    upper_lip_curvature = (p3[1] - midpoint_y) / width\n",
    "\n",
    "    # Feature 3: Symmetry of the Mouth\n",
    "    lower_lip_distance = abs(p4[0] - midpoint_x)\n",
    "    upper_lip_distance = abs(p3[0] - midpoint_x)\n",
    "    symmetry = (upper_lip_distance - lower_lip_distance) / width\n",
    "\n",
    "    return {\n",
    "        \"Width-to-Height Ratio\": width_to_height_ratio,\n",
    "        \"Upper Lip Curvature\": upper_lip_curvature,\n",
    "        \"Mouth Symmetry\": symmetry,\n",
    "    }"
   ]
  },
  {
   "cell_type": "code",
   "execution_count": 4,
   "metadata": {},
   "outputs": [],
   "source": [
    "# Example: Four key points of the mouth\n",
    "p1 = (30, 50)  # Left corner\n",
    "p2 = (70, 50)  # Right corner\n",
    "p3 = (50, 70)  # Midpoint of upper lip\n",
    "p4 = (50, 30)  # Midpoint of lower lip"
   ]
  },
  {
   "cell_type": "code",
   "execution_count": 5,
   "metadata": {},
   "outputs": [
    {
     "name": "stdout",
     "output_type": "stream",
     "text": [
      "Smile Features:\n",
      "Width-to-Height Ratio: 1.00\n",
      "Upper Lip Curvature: 0.50\n",
      "Mouth Symmetry: 0.00\n"
     ]
    }
   ],
   "source": [
    "features = calculate_smile_features(p1, p2, p3, p4)\n",
    "print(\"Smile Features:\")\n",
    "for feature, value in features.items():\n",
    "    print(f\"{feature}: {value:.2f}\")"
   ]
  }
 ],
 "metadata": {
  "kernelspec": {
   "display_name": "Python 3",
   "language": "python",
   "name": "python3"
  },
  "language_info": {
   "codemirror_mode": {
    "name": "ipython",
    "version": 3
   },
   "file_extension": ".py",
   "mimetype": "text/x-python",
   "name": "python",
   "nbconvert_exporter": "python",
   "pygments_lexer": "ipython3",
   "version": "3.12.3"
  }
 },
 "nbformat": 4,
 "nbformat_minor": 2
}
